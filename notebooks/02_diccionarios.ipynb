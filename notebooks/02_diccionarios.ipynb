{
 "cells": [
  {
   "cell_type": "code",
   "execution_count": 2,
   "metadata": {},
   "outputs": [
    {
     "name": "stdout",
     "output_type": "stream",
     "text": [
      "{'nombre': 'Victor', 'edad': 23}\n"
     ]
    }
   ],
   "source": [
    "diccionario = {\"nombre\": \"Victor\", \"edad\": 23}\n",
    "print(diccionario)"
   ]
  },
  {
   "cell_type": "code",
   "execution_count": 5,
   "metadata": {},
   "outputs": [
    {
     "data": {
      "text/plain": [
       "'Victor'"
      ]
     },
     "execution_count": 5,
     "metadata": {},
     "output_type": "execute_result"
    }
   ],
   "source": [
    "# ver el valor de una clave especifica\n",
    "diccionario[\"nombre\"]"
   ]
  },
  {
   "cell_type": "code",
   "execution_count": 6,
   "metadata": {},
   "outputs": [
    {
     "data": {
      "text/plain": [
       "23"
      ]
     },
     "execution_count": 6,
     "metadata": {},
     "output_type": "execute_result"
    }
   ],
   "source": [
    "diccionario[\"edad\"]"
   ]
  },
  {
   "cell_type": "code",
   "execution_count": 8,
   "metadata": {},
   "outputs": [
    {
     "data": {
      "text/plain": [
       "{'pais': 'Italia', 'ciudad': 'Milan'}"
      ]
     },
     "execution_count": 8,
     "metadata": {},
     "output_type": "execute_result"
    }
   ],
   "source": [
    "# modificar elementos\n",
    "datos_personales = {\"pais\": \"Italia\", \"ciudad\": \"Roma\"}\n",
    "datos_personales[\"ciudad\"] = \"Milan\"\n",
    "datos_personales"
   ]
  },
  {
   "cell_type": "code",
   "execution_count": 14,
   "metadata": {},
   "outputs": [
    {
     "data": {
      "text/plain": [
       "{'jose': 18, 'david': 23, 'camila': 19, 'maria': 32, 'raul': 33}"
      ]
     },
     "execution_count": 14,
     "metadata": {},
     "output_type": "execute_result"
    }
   ],
   "source": [
    "# actualizar el dict añadiendo un nuevo valor\n",
    "datos = {\"jose\": 18, \"david\": 23, \"camila\": 19, \"maria\": 32}\n",
    "datos.update({\"raul\": 33})  # actualizar el dict añadiendo un nuevo valor\n",
    "datos\n"
   ]
  },
  {
   "cell_type": "code",
   "execution_count": 15,
   "metadata": {},
   "outputs": [
    {
     "data": {
      "text/plain": [
       "{'jose': 18, 'camila': 19, 'maria': 32, 'raul': 33}"
      ]
     },
     "execution_count": 15,
     "metadata": {},
     "output_type": "execute_result"
    }
   ],
   "source": [
    "# eliminar un elemento por su clave\n",
    "del datos[\"david\"]\n",
    "datos"
   ]
  },
  {
   "cell_type": "code",
   "execution_count": 30,
   "metadata": {},
   "outputs": [
    {
     "data": {
      "text/plain": [
       "['camila', 'jose', 'maria', 'raul']"
      ]
     },
     "execution_count": 30,
     "metadata": {},
     "output_type": "execute_result"
    }
   ],
   "source": [
    "# crear una lista a partir de un diccionario y sus claves\n",
    "estudiantes_dict = {'jose': 18, 'camila': 19, 'maria': 32, 'raul': 33}\n",
    "nombres = list(estudiantes_dict.keys())\n",
    "nombres.sort()\n",
    "nombres"
   ]
  },
  {
   "cell_type": "code",
   "execution_count": 31,
   "metadata": {},
   "outputs": [
    {
     "name": "stdout",
     "output_type": "stream",
     "text": [
      "camila : 19\n",
      "jose : 18\n",
      "maria : 32\n",
      "raul : 33\n"
     ]
    }
   ],
   "source": [
    "# recorrer el diccionario usando una lista\n",
    "for e in nombres:\n",
    "    print(\" : \".join((e, str(estudiantes_dict[e]))))"
   ]
  }
 ],
 "metadata": {
  "kernelspec": {
   "display_name": ".venv",
   "language": "python",
   "name": "python3"
  },
  "language_info": {
   "codemirror_mode": {
    "name": "ipython",
    "version": 3
   },
   "file_extension": ".py",
   "mimetype": "text/x-python",
   "name": "python",
   "nbconvert_exporter": "python",
   "pygments_lexer": "ipython3",
   "version": "3.10.12"
  },
  "orig_nbformat": 4
 },
 "nbformat": 4,
 "nbformat_minor": 2
}
