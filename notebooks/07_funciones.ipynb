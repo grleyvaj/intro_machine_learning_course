{
 "cells": [
  {
   "cell_type": "code",
   "execution_count": 2,
   "metadata": {},
   "outputs": [
    {
     "name": "stdout",
     "output_type": "stream",
     "text": [
      "Hola, mi nombre es Gloria\n"
     ]
    }
   ],
   "source": [
    "def mi_funcion(nombre : str) -> None:\n",
    "    print(\"Hola, mi nombre es\", nombre)\n",
    "\n",
    "mi_funcion(\"Gloria\")"
   ]
  },
  {
   "cell_type": "code",
   "execution_count": 4,
   "metadata": {},
   "outputs": [
    {
     "name": "stdout",
     "output_type": "stream",
     "text": [
      "Hola, mi nombre es Gloria y tengo 33\n"
     ]
    }
   ],
   "source": [
    "def mi_funcion(nombre : str, edad: int) -> None:\n",
    "    print(\"Hola, mi nombre es \" + nombre + \" y tengo\", edad)\n",
    "\n",
    "mi_funcion(\"Gloria\", 33)"
   ]
  },
  {
   "cell_type": "code",
   "execution_count": 6,
   "metadata": {},
   "outputs": [
    {
     "data": {
      "text/plain": [
       "6"
      ]
     },
     "execution_count": 6,
     "metadata": {},
     "output_type": "execute_result"
    }
   ],
   "source": [
    "def suma (n1, n2 : int) -> None:\n",
    "    return n1 + n2\n",
    "\n",
    "suma(2, 4)"
   ]
  },
  {
   "cell_type": "code",
   "execution_count": 11,
   "metadata": {},
   "outputs": [
    {
     "name": "stdout",
     "output_type": "stream",
     "text": [
      "variable global 80\n"
     ]
    }
   ],
   "source": [
    "x = 80\n",
    "print(\"variable global\", x)"
   ]
  },
  {
   "cell_type": "code",
   "execution_count": 14,
   "metadata": {},
   "outputs": [
    {
     "name": "stdout",
     "output_type": "stream",
     "text": [
      "variable local: 50\n",
      "acceso a variables globales: 130\n"
     ]
    }
   ],
   "source": [
    "def mi_num():\n",
    "    y = 50\n",
    "    z = 50 + x\n",
    "    print(\"variable local:\", y)\n",
    "    print(\"acceso a variables globales:\", z)\n",
    "\n",
    "mi_num()"
   ]
  }
 ],
 "metadata": {
  "kernelspec": {
   "display_name": ".venv",
   "language": "python",
   "name": "python3"
  },
  "language_info": {
   "codemirror_mode": {
    "name": "ipython",
    "version": 3
   },
   "file_extension": ".py",
   "mimetype": "text/x-python",
   "name": "python",
   "nbconvert_exporter": "python",
   "pygments_lexer": "ipython3",
   "version": "3.10.12"
  },
  "orig_nbformat": 4
 },
 "nbformat": 4,
 "nbformat_minor": 2
}
