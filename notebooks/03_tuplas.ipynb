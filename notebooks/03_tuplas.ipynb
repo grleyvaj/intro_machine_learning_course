{
 "cells": [
  {
   "cell_type": "code",
   "execution_count": 2,
   "metadata": {},
   "outputs": [
    {
     "data": {
      "text/plain": [
       "(0, 1, 2, 3, 4, 5)"
      ]
     },
     "execution_count": 2,
     "metadata": {},
     "output_type": "execute_result"
    }
   ],
   "source": [
    "# los elementos de una tupla no se pueden modificar\n",
    "tuplas = (0, 1, 2, 3, 4, 5,)\n",
    "tuplas"
   ]
  },
  {
   "cell_type": "code",
   "execution_count": 4,
   "metadata": {},
   "outputs": [
    {
     "data": {
      "text/plain": [
       "[1000, 1, 2, 3, 4, 5]"
      ]
     },
     "execution_count": 4,
     "metadata": {},
     "output_type": "execute_result"
    }
   ],
   "source": [
    "# en lista se pueden modificar\n",
    "listas = [0, 1, 2, 3, 4, 5, ]\n",
    "listas[0] = 1000\n",
    "listas"
   ]
  },
  {
   "cell_type": "code",
   "execution_count": 7,
   "metadata": {},
   "outputs": [
    {
     "ename": "TypeError",
     "evalue": "'tuple' object does not support item assignment",
     "output_type": "error",
     "traceback": [
      "\u001b[0;31m---------------------------------------------------------------------------\u001b[0m",
      "\u001b[0;31mTypeError\u001b[0m                                 Traceback (most recent call last)",
      "Cell \u001b[0;32mIn[7], line 3\u001b[0m\n\u001b[1;32m      1\u001b[0m \u001b[39m# en tuplas no es posible\u001b[39;00m\n\u001b[1;32m      2\u001b[0m tuplas \u001b[39m=\u001b[39m (\u001b[39m0\u001b[39m, \u001b[39m1\u001b[39m, \u001b[39m2\u001b[39m, \u001b[39m3\u001b[39m, \u001b[39m4\u001b[39m, \u001b[39m5\u001b[39m,)\n\u001b[0;32m----> 3\u001b[0m tuplas[\u001b[39m0\u001b[39;49m] \u001b[39m=\u001b[39m \u001b[39m1000\u001b[39m \u001b[39m# devuelve error, porq no puede ser modificado\u001b[39;00m\n",
      "\u001b[0;31mTypeError\u001b[0m: 'tuple' object does not support item assignment"
     ]
    }
   ],
   "source": [
    "# en tuplas no es posible\n",
    "tuplas = (0, 1, 2, 3, 4, 5,)\n",
    "tuplas[0] = 1000 # devuelve error, porq no puede ser modificado"
   ]
  },
  {
   "cell_type": "code",
   "execution_count": 9,
   "metadata": {},
   "outputs": [
    {
     "data": {
      "text/plain": [
       "(0, 1, 2, 3, 4, 'a', 'b', 'c')"
      ]
     },
     "execution_count": 9,
     "metadata": {},
     "output_type": "execute_result"
    }
   ],
   "source": [
    "# combinar\n",
    "tuplas_a = (0, 1, 2, 3, 4)\n",
    "tuplas_b = (\"a\", \"b\", \"c\")\n",
    "tuplas_a + tuplas_b"
   ]
  },
  {
   "cell_type": "code",
   "execution_count": 13,
   "metadata": {},
   "outputs": [
    {
     "data": {
      "text/plain": [
       "'pythonpythonpythonpython'"
      ]
     },
     "execution_count": 13,
     "metadata": {},
     "output_type": "execute_result"
    }
   ],
   "source": [
    "# replicar n veces\n",
    "tuplas_c = (\"python\") * 4\n",
    "tuplas_c"
   ]
  },
  {
   "cell_type": "code",
   "execution_count": 15,
   "metadata": {},
   "outputs": [
    {
     "name": "stdout",
     "output_type": "stream",
     "text": [
      "3\n"
     ]
    }
   ],
   "source": [
    "# contar elementos repetidos\n",
    "tupla = (1, 5, 6, 8, 6, 5, 7, 5)\n",
    "repetido = tupla.count(5)\n",
    "print(repetido)"
   ]
  },
  {
   "cell_type": "code",
   "execution_count": 17,
   "metadata": {},
   "outputs": [
    {
     "name": "stdout",
     "output_type": "stream",
     "text": [
      "1\n"
     ]
    }
   ],
   "source": [
    "# encontar el primer elemento\n",
    "tupla = (1, 5, 6, 8, 6, 5, 7, 5)\n",
    "primero = tupla.index(5)\n",
    "print(primero)"
   ]
  },
  {
   "cell_type": "code",
   "execution_count": 18,
   "metadata": {},
   "outputs": [
    {
     "data": {
      "text/plain": [
       "('rojo', 'negro', 'verde')"
      ]
     },
     "execution_count": 18,
     "metadata": {},
     "output_type": "execute_result"
    }
   ],
   "source": [
    "# modificar una tupla, con conversion\n",
    "x = (\"rojo\", \"amarillo\", \"verde\")\n",
    "y = list(x)\n",
    "y[1] = \"negro\"\n",
    "x = tuple(y)\n",
    "x\n"
   ]
  }
 ],
 "metadata": {
  "kernelspec": {
   "display_name": ".venv",
   "language": "python",
   "name": "python3"
  },
  "language_info": {
   "codemirror_mode": {
    "name": "ipython",
    "version": 3
   },
   "file_extension": ".py",
   "mimetype": "text/x-python",
   "name": "python",
   "nbconvert_exporter": "python",
   "pygments_lexer": "ipython3",
   "version": "3.10.12"
  },
  "orig_nbformat": 4
 },
 "nbformat": 4,
 "nbformat_minor": 2
}
