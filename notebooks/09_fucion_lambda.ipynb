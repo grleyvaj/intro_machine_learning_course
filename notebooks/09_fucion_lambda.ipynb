{
 "cells": [
  {
   "cell_type": "code",
   "execution_count": 4,
   "metadata": {},
   "outputs": [
    {
     "data": {
      "text/plain": [
       "400"
      ]
     },
     "execution_count": 4,
     "metadata": {},
     "output_type": "execute_result"
    }
   ],
   "source": [
    "# lambda -> funcion anonima\n",
    "def doble(x):\n",
    "    return x * 2\n",
    "\n",
    "\n",
    "doble(200)"
   ]
  },
  {
   "cell_type": "code",
   "execution_count": 7,
   "metadata": {},
   "outputs": [
    {
     "data": {
      "text/plain": [
       "400"
      ]
     },
     "execution_count": 7,
     "metadata": {},
     "output_type": "execute_result"
    }
   ],
   "source": [
    "# usando lambda\n",
    "calcular_doble = lambda x: x * 2\n",
    "calcular_doble(200)"
   ]
  },
  {
   "cell_type": "code",
   "execution_count": 12,
   "metadata": {},
   "outputs": [
    {
     "data": {
      "text/plain": [
       "[6, 78, 4, 8, 24, 12]"
      ]
     },
     "execution_count": 12,
     "metadata": {},
     "output_type": "execute_result"
    }
   ],
   "source": [
    "# aplicar lambda en filter (buscar los pares)\n",
    "lista = [1, 5, 6, 78, 9, 5, 4, 67, 8, 24, 12]\n",
    "lista_pares = list(filter(lambda x: x % 2 == 0, lista))\n",
    "lista_pares"
   ]
  },
  {
   "cell_type": "code",
   "execution_count": 13,
   "metadata": {},
   "outputs": [
    {
     "name": "stdout",
     "output_type": "stream",
     "text": [
      "[8, 10, 14, 196, 10, 4, 8, 12]\n"
     ]
    }
   ],
   "source": [
    "# aplicar lambda en map (duplicar los elementos)\n",
    "lista = [4, 5, 7, 98, 5, 2, 4, 6]\n",
    "lista_doble = list(map(lambda x: x * 2, lista))\n",
    "print(lista_doble)"
   ]
  }
 ],
 "metadata": {
  "kernelspec": {
   "display_name": ".venv",
   "language": "python",
   "name": "python3"
  },
  "language_info": {
   "codemirror_mode": {
    "name": "ipython",
    "version": 3
   },
   "file_extension": ".py",
   "mimetype": "text/x-python",
   "name": "python",
   "nbconvert_exporter": "python",
   "pygments_lexer": "ipython3",
   "version": "3.10.12"
  },
  "orig_nbformat": 4
 },
 "nbformat": 4,
 "nbformat_minor": 2
}
